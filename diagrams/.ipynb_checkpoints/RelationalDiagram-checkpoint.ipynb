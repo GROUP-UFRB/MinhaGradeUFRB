{
 "cells": [
  {
   "cell_type": "code",
   "execution_count": 1,
   "metadata": {
    "colab": {
     "base_uri": "https://localhost:8080/"
    },
    "executionInfo": {
     "elapsed": 19894,
     "status": "ok",
     "timestamp": 1658585190662,
     "user": {
      "displayName": "Joel Pires",
      "userId": "08214237509961751410"
     },
     "user_tz": 180
    },
    "id": "wl9Xe2PSoG04",
    "outputId": "644bcdfc-62e9-42be-dd7a-148762fe411b"
   },
   "outputs": [
    {
     "name": "stdout",
     "output_type": "stream",
     "text": [
      "Mounted at /content/drive\n"
     ]
    }
   ],
   "source": [
    "from google.colab import drive\n",
    "drive.mount('/content/drive')"
   ]
  },
  {
   "cell_type": "code",
   "execution_count": null,
   "metadata": {
    "id": "T8xIw_npVFfA"
   },
   "outputs": [],
   "source": [
    "!pip install pylint\n",
    "!pip install graphviz"
   ]
  },
  {
   "cell_type": "code",
   "execution_count": null,
   "metadata": {
    "id": "tnQM3VOaVLv8"
   },
   "outputs": [],
   "source": [
    "!sudo apt install graphviz"
   ]
  },
  {
   "cell_type": "code",
   "execution_count": 3,
   "metadata": {
    "colab": {
     "base_uri": "https://localhost:8080/"
    },
    "executionInfo": {
     "elapsed": 696,
     "status": "ok",
     "timestamp": 1658585216138,
     "user": {
      "displayName": "Joel Pires",
      "userId": "08214237509961751410"
     },
     "user_tz": 180
    },
    "id": "v1GU0s7DVjDt",
    "outputId": "df1ffd40-3e2d-4b70-f043-279e6442a4d8"
   },
   "outputs": [
    {
     "name": "stdout",
     "output_type": "stream",
     "text": [
      "/content/drive/MyDrive/estudos/2021.2/BD I/project/diagrams\n"
     ]
    }
   ],
   "source": [
    "%cd /content/drive/MyDrive/estudos/2021.2/\"BD I\"/project/diagrams"
   ]
  },
  {
   "cell_type": "code",
   "execution_count": 5,
   "metadata": {
    "colab": {
     "base_uri": "https://localhost:8080/"
    },
    "executionInfo": {
     "elapsed": 1101,
     "status": "ok",
     "timestamp": 1658596395707,
     "user": {
      "displayName": "Joel Pires",
      "userId": "08214237509961751410"
     },
     "user_tz": 180
    },
    "id": "b7g5PYzmVFfG",
    "outputId": "d5d9f694-cb04-4994-907d-998f68c872d0"
   },
   "outputs": [
    {
     "name": "stdout",
     "output_type": "stream",
     "text": [
      "Format png is not supported natively. Pyreverse will try to generate it using Graphviz...\n",
      "parsing diagrams.py...\n"
     ]
    }
   ],
   "source": [
    "!pyreverse -o png diagrams.py"
   ]
  },
  {
   "cell_type": "code",
   "execution_count": null,
   "metadata": {
    "id": "ylymEbExVFfI"
   },
   "outputs": [],
   "source": []
  }
 ],
 "metadata": {
  "colab": {
   "name": "RelationalDiagram.ipynb",
   "provenance": []
  },
  "kernelspec": {
   "display_name": "Python 3",
   "language": "python",
   "name": "python3"
  },
  "language_info": {
   "codemirror_mode": {
    "name": "ipython",
    "version": 3
   },
   "file_extension": ".py",
   "mimetype": "text/x-python",
   "name": "python",
   "nbconvert_exporter": "python",
   "pygments_lexer": "ipython3",
   "version": "3.10.5"
  },
  "vscode": {
   "interpreter": {
    "hash": "d3e10ef16274dd72e574b8fa73b58450b957d8421a2901baded3cca26fcf5dda"
   }
  }
 },
 "nbformat": 4,
 "nbformat_minor": 1
}
