{
 "cells": [
  {
   "cell_type": "code",
   "execution_count": 54,
   "metadata": {},
   "outputs": [],
   "source": [
    "import cv2\n",
    "from PIL import Image\n",
    "from datetime import date\n",
    "import json\n",
    "import pdf2image\n",
    "import pytesseract as tess\n",
    "tess.pytesseract.tesseract_cmd = \"C:/Program Files/Tesseract-OCR/tesseract.exe\""
   ]
  },
  {
   "cell_type": "code",
   "execution_count": 2,
   "metadata": {},
   "outputs": [],
   "source": [
    "def concat_v(imgs):\n",
    "    if type(imgs) != list:\n",
    "        return imgs\n",
    "\n",
    "    if len(imgs) > 0:\n",
    "        im0 = imgs[0]\n",
    "        for im2 in imgs[1:]:\n",
    "            new_img = Image.new(\"RGB\", (im0.width, im0.height+im2.height))\n",
    "            new_img.paste(im0, (0, 0))\n",
    "            new_img.paste(im2, (0, im0.height))\n",
    "\n",
    "            im0 = new_img\n",
    "\n",
    "        return im0\n",
    "\n",
    "    return imgs"
   ]
  },
  {
   "cell_type": "code",
   "execution_count": 3,
   "metadata": {},
   "outputs": [],
   "source": [
    "images = pdf2image.convert_from_path(\"history.pdf\", fmt=\"jpeg\")\n",
    "result_img = concat_v(images)\n",
    "#result_img.save(\"./output_imgs/history.jpg\")"
   ]
  },
  {
   "cell_type": "code",
   "execution_count": 4,
   "metadata": {},
   "outputs": [],
   "source": [
    "#img = Image.open('history.jpg') \n",
    "# Adding custom options\n",
    "custom_config = r'--oem 3 --psm 6'\n",
    "content = tess.image_to_string(result_img,\n",
    "                    config=custom_config\n",
    "                    )"
   ]
  },
  {
   "cell_type": "code",
   "execution_count": 6,
   "metadata": {},
   "outputs": [],
   "source": [
    "with open(\"output/history.txt\",\"w\") as f:\n",
    "    f.write(content)"
   ]
  },
  {
   "cell_type": "code",
   "execution_count": 64,
   "metadata": {},
   "outputs": [],
   "source": [
    "def subjects_completed(lines, content_dict):\n",
    "    semesters = [\"2021.3\"]\n",
    "    for year in range(2006, date.today().year, 1):\n",
    "        for semester in range(1,3, 1):\n",
    "            semesters.append(str(year)+\".\"+str(semester))\n",
    "            \n",
    "    for line in lines[1:]:\n",
    "        #ex.: 2021.2\n",
    "        subject = dict()\n",
    "\n",
    "        sub_ = line.split(\" \")\n",
    "\n",
    "        if sub_[0] in semesters:\n",
    "\n",
    "            subject[\"semester\"] = sub_[0]\n",
    "            subject[\"cod\"] = sub_[1]\n",
    "            subject[\"status\"] = sub_[-1]\n",
    "            subject[\"score\"] = sub_[-2]\n",
    "            subject[\"freq\"] = sub_[-3]\n",
    "            subject[\"work_load\"] = sub_[-4]\n",
    "\n",
    "            content_dict[\"subjects_completed\"].append(subject)\n",
    "\n",
    "def extract_information(content):\n",
    "    content_dict = dict()\n",
    "    content_dict[\"subjects_completed\"] = []\n",
    "\n",
    "    lines = content.split(\"\\n\")\n",
    "    for i in range(len(lines)):\n",
    "        line = lines[i]\n",
    "        if line[0:5] == \"Nome\": #Nome and Matricula are in the same line\n",
    "            p_m = line.index(\"Matricula\")\n",
    "            content_dict[\"name\"] = line[line.index(\": \")+2:p_m-1]\n",
    "            content_dict['register'] = line[p_m+11:]\n",
    "        \n",
    "        if line[0:19] == \"Data de Nascimento:\":\n",
    "            content_dict[\"birth_date\"] = line[line.index(\"to:\")+4:line.index(\" Local\")]\n",
    "            content_dict[\"birth_place\"] = line[line.rindex(\"to:\")+4:]\n",
    "\n",
    "        if line[0:4] == \"CPF:\":\n",
    "            content_dict[\"cpf\"] = line[line.index(\"CPF:\")+5:]\n",
    "\n",
    "        if line[0:6] == \"Curso:\":\n",
    "            content_dict['course_name'] = line[line.index(\"Curso:\")+7:]\n",
    "        \n",
    "        if \"Componentes Curriculares Cursados/Cursando\" in line:\n",
    "            subjects_completed(lines, content_dict)\n",
    "\n",
    "    return content_dict"
   ]
  },
  {
   "cell_type": "code",
   "execution_count": 65,
   "metadata": {},
   "outputs": [],
   "source": [
    "content_dict = extract_information(content)"
   ]
  },
  {
   "cell_type": "code",
   "execution_count": 66,
   "metadata": {},
   "outputs": [],
   "source": [
    "with open(\"output/history.json\", \"w\") as f:\n",
    "    f.write(json.dumps(content_dict))"
   ]
  }
 ],
 "metadata": {
  "kernelspec": {
   "display_name": "Python 3.10.5 64-bit",
   "language": "python",
   "name": "python3"
  },
  "language_info": {
   "codemirror_mode": {
    "name": "ipython",
    "version": 3
   },
   "file_extension": ".py",
   "mimetype": "text/x-python",
   "name": "python",
   "nbconvert_exporter": "python",
   "pygments_lexer": "ipython3",
   "version": "3.10.5"
  },
  "orig_nbformat": 4,
  "vscode": {
   "interpreter": {
    "hash": "d3e10ef16274dd72e574b8fa73b58450b957d8421a2901baded3cca26fcf5dda"
   }
  }
 },
 "nbformat": 4,
 "nbformat_minor": 2
}
